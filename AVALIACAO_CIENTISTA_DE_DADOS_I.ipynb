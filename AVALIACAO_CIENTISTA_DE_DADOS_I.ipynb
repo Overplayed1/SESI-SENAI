{
 "cells": [
  {
   "cell_type": "markdown",
   "metadata": {},
   "source": [
    "## 1.1 - Uma estrutura de diretórios e nomenclatura de arquivos que permita armazenar as consultas de modo coerente"
   ]
  },
  {
   "cell_type": "markdown",
   "metadata": {},
   "source": [
    "Utilizando as boas práticas, separaria cada fase dos dados por camadas, sendo as 3 principais: bronze (dados em seu estado puro, uma copia e cola da origem), silver (dados com alguns tratamentos simples - correções de nomes, validações de nomes, validações de dados nulls) e gold (dados em seu estado final e pronto para carregamento).\n",
    "\n",
    "Na camada bronze, teríamos a partição por país, sendo o diretório inicial o país de origem, dentro do diretório inicial teríamos pastas que seriam os países de destino e dentro dos países de destino teríamos uma partição por ano. Em relação a nomenclatura, utilizariamos as 3 siglas iniciais dos países. Ou seja, seria algo semelhante a \"/bronze/bra/arg/2019.txt\"\n",
    "\n",
    "Na camada silver, teríamos a partição por país, sendo o diretório inicial o país de origem, dentro do diretório inicial teríamos pastas que seriam os países de destino e dentro dos países de destino teríamos uma partição por ano. Em relação a nomenclatura, utilizariamos as 3 siglas iniciais dos países, sendo que neste nível seria ideal salvar os dados como um arquivo parquet. Ou seja, seria algo semelhante a \"/silver/bra/arg/2019.parquet\"\n",
    "\n",
    "Na camada gold, teríamos a partição por país, sendo o diretório inicial o país de origem, dentro do diretório inicial teríamos pastas que seriam os países de destino e dentro dos países de destino teríamos uma partição por ano. Em relação a nomenclatura, utilizariamos as 3 siglas iniciais dos países, ou seja, seria algo semelhante a \"/gold/bra/arg/2019.parquet\""
   ]
  },
  {
   "cell_type": "markdown",
   "metadata": {},
   "source": [
    "## 1.2 - Liste as etapas necessárias para integração de 3 anos (2019~2021) de comércio exterior"
   ]
  },
  {
   "cell_type": "markdown",
   "metadata": {},
   "source": [
    "1 - Realizar o request em todos os países de origem, destino e anos"
   ]
  },
  {
   "cell_type": "code",
   "execution_count": null,
   "metadata": {},
   "outputs": [],
   "source": [
    "import requests as req\n",
    "\n",
    "resultado = req.get('https://link.api/dados')\n",
    "\n",
    "lista_paises = []\n",
    "\n",
    "for pais in resultado.json()['pais_origem']:\n",
    "    lista_paises.append(pais)\n",
    "\n",
    "anos_considerados = ['2019', '2020', '2021']\n",
    "dados = {}\n",
    "dados_filtrados = []\n",
    "\n",
    "for pais_origem in lista_paises:\n",
    "    for pais_destino in lista_paises:\n",
    "        if pais_origem == pais_destino:\n",
    "            continue\n",
    "        for ano in resultado.json()['ano']:\n",
    "            for ano['ano'] in anos_considerados:\n",
    "                dados = {\n",
    "                    'pais_origem': pais_origem,\n",
    "                    'pais_destino': pais_destino,\n",
    "                    'ano': ano['ano']\n",
    "                }\n",
    "                dados_filtrados.append(dados)\n"
   ]
  },
  {
   "cell_type": "markdown",
   "metadata": {},
   "source": [
    "2- Salva os dados na camada bronze"
   ]
  },
  {
   "cell_type": "markdown",
   "metadata": {},
   "source": [
    "3- Realiza ajustes necessários nos dados: correção de valores nulos, correção de valores em branco, tratamento de tipos de dados"
   ]
  },
  {
   "cell_type": "markdown",
   "metadata": {},
   "source": [
    "4- Salva os dados na camada silver"
   ]
  },
  {
   "cell_type": "markdown",
   "metadata": {},
   "source": [
    "5- Realiza cálculos necessários pertinentes ao projeto"
   ]
  },
  {
   "cell_type": "markdown",
   "metadata": {},
   "source": [
    "6- Salva os dados na camada gold"
   ]
  },
  {
   "cell_type": "markdown",
   "metadata": {},
   "source": [
    "## 1.3 - Qual/Quais arquivo(s) da sua base de dados respondem a questão: 'Qual a quantidade de soja o Mundo importou do Brasil em 2020?'"
   ]
  },
  {
   "cell_type": "markdown",
   "metadata": {},
   "source": [
    "O arquivo estaria na pasta \"gold/mun/bra/2020.parquet\""
   ]
  },
  {
   "cell_type": "markdown",
   "metadata": {},
   "source": [
    "## 1.4 – Sua base de dados alimenta um painel que possui informações de comércio exterior entre países – e também mundo. As consultas de comércio exterior podem ser feitas com os parâmetros M (‘mês’) ou A(‘ano’). A consulta M representa um report dos meses disponíveis no ano até então. A consulta A representa o report final/completo das imp/exp em determinado ano. Considere que cada país escolhe uma data “aleatória” do primeiro trimestre do novo ano para realizar o report final/completo das suas exportações e importações anuais do ano anterior.\n",
    "## Liste as etapas necessárias para manter as bases atualizadas de modo recorrente:"
   ]
  },
  {
   "cell_type": "markdown",
   "metadata": {},
   "source": [
    "1- Coleta de Dados Mensais e Anuais"
   ]
  },
  {
   "cell_type": "markdown",
   "metadata": {},
   "source": [
    "2- Armazenamento Estruturado"
   ]
  },
  {
   "cell_type": "markdown",
   "metadata": {},
   "source": [
    "3- Atualização Recorrente"
   ]
  },
  {
   "cell_type": "markdown",
   "metadata": {},
   "source": [
    "4- Verificação de Consistência"
   ]
  },
  {
   "cell_type": "markdown",
   "metadata": {},
   "source": [
    "5- Consulta e Filtragem:\n",
    "Ao solicitar dados com o parâmetro A, retornar os dados anuais disponíveis, ou um retorno vazio se ainda não estiverem.\n",
    "Para consultas com o parâmetro M, retornar os dados mensais disponíveis até a data da consulta."
   ]
  },
  {
   "cell_type": "markdown",
   "metadata": {},
   "source": [
    "6- Monitoramento e Alertas"
   ]
  },
  {
   "cell_type": "markdown",
   "metadata": {},
   "source": [
    "#### Fluxo de Execução\n",
    "No início de cada mês:\n",
    "\n",
    "Executar um script para coletar os dados do mês anterior.\n",
    "Atualizar a tabela de dados mensais com os novos dados.\n",
    "Verificar a consistência dos dados mensais.\n",
    "\n",
    "No início de cada trimestre:\n",
    "Executar um script para verificar se os relatórios anuais de 2024 foram publicados.\n",
    "Atualize a tabela de dados anuais com os novos relatórios.\n",
    "Verifique a consistência entre os dados mensais de 2024 e os relatórios anuais de 2024.\n",
    "\n",
    "Semanalmente:\n",
    "Execute verificações para garantir que o sistema de coleta e atualização está funcionando corretamente.\n",
    "Monitore o sistema para detectar quaisquer falhas ou inconsistências."
   ]
  },
  {
   "cell_type": "markdown",
   "metadata": {},
   "source": [
    "## 2.Suponha que você precise automatizar o processo de baixar, empilhar e manter atualizado os arquivos de empresas (0~9). Considere que o site é instável, portanto, o arquivo baixado pode estar corrompido.  Liste as etapas necessárias para que o dataset de empresas esteja sempre atualizado.   "
   ]
  },
  {
   "cell_type": "markdown",
   "metadata": {},
   "source": [
    "1- Criar os diretórios de trabalho"
   ]
  },
  {
   "cell_type": "markdown",
   "metadata": {},
   "source": [
    "2- Configurar o ambiente em uma Máquina Virtual"
   ]
  },
  {
   "cell_type": "markdown",
   "metadata": {},
   "source": [
    "3- Baixar os Arquivos"
   ]
  },
  {
   "cell_type": "markdown",
   "metadata": {},
   "source": [
    "4- Verificar e Validar os Arquivos\n"
   ]
  },
  {
   "cell_type": "markdown",
   "metadata": {},
   "source": [
    "5- Descompactar e Processar os Arquivos\n"
   ]
  },
  {
   "cell_type": "markdown",
   "metadata": {},
   "source": [
    "6- Juntar os Dados"
   ]
  },
  {
   "cell_type": "markdown",
   "metadata": {},
   "source": [
    "7- Notificação e Monitoramento"
   ]
  },
  {
   "cell_type": "markdown",
   "metadata": {},
   "source": [
    "## 3. Escreva uma consulta SQL que retorne, para cada funcionário, o nome do departamento em que ele trabalhou pela primeira vez (baseado na data de início de trabalho), o nome do departamento onde ele está atualmente trabalhando, e a quantidade de departamentos diferentes em que ele já trabalhou."
   ]
  },
  {
   "cell_type": "markdown",
   "metadata": {},
   "source": [
    "#### Obter o Primeiro Departamento de Trabalho de Cada Funcionário"
   ]
  },
  {
   "cell_type": "code",
   "execution_count": null,
   "metadata": {
    "vscode": {
     "languageId": "sql"
    }
   },
   "outputs": [],
   "source": [
    "SELECT \n",
    "    e.employee_id,\n",
    "    e.employee_name,\n",
    "    d.department_name AS first_department\n",
    "FROM \n",
    "    employees e\n",
    "JOIN \n",
    "    employee_department_history edh \n",
    "    ON e.employee_id = edh.employee_id\n",
    "JOIN \n",
    "    departments d \n",
    "    ON edh.department_id = d.department_id\n",
    "WHERE \n",
    "    edh.start_date = (\n",
    "        SELECT MIN(start_date) \n",
    "        FROM employee_department_history \n",
    "        WHERE employee_id = e.employee_id\n",
    "    );\n"
   ]
  },
  {
   "cell_type": "markdown",
   "metadata": {},
   "source": [
    "#### Obter o Departamento de Trabalho Atual de Cada Funcionário"
   ]
  },
  {
   "cell_type": "code",
   "execution_count": null,
   "metadata": {
    "vscode": {
     "languageId": "sql"
    }
   },
   "outputs": [],
   "source": [
    "SELECT \n",
    "    e.employee_id,\n",
    "    e.employee_name,\n",
    "    d.department_name AS current_department\n",
    "FROM \n",
    "    employees e\n",
    "JOIN \n",
    "    employee_department_history edh \n",
    "    ON e.employee_id = edh.employee_id\n",
    "JOIN \n",
    "    departments d \n",
    "    ON edh.department_id = d.department_id\n",
    "WHERE \n",
    "    edh.end_date IS NULL;\n"
   ]
  },
  {
   "cell_type": "markdown",
   "metadata": {},
   "source": [
    "#### Contar os Departamentos em que Cada Funcionário Já Trabalhou"
   ]
  },
  {
   "cell_type": "code",
   "execution_count": null,
   "metadata": {
    "vscode": {
     "languageId": "sql"
    }
   },
   "outputs": [],
   "source": [
    "SELECT \n",
    "    e.employee_id,\n",
    "    e.employee_name,\n",
    "    COUNT(DISTINCT edh.department_id) AS num_departments\n",
    "FROM \n",
    "    employees e\n",
    "JOIN \n",
    "    employee_department_history edh \n",
    "    ON e.employee_id = edh.employee_id\n",
    "GROUP BY \n",
    "    e.employee_id, e.employee_name;"
   ]
  },
  {
   "cell_type": "markdown",
   "metadata": {},
   "source": [
    "## 4. O arquivo exemplo1.parquet possui 7GB. O tempo de leitura e retorno de 1 linha específica são 5s - utilizando processamento paralelo (pyspark) em cluster. Contudo, você precisa criar uma API com recursos bem mais modestos, isto é, menor poder de processamento - mantendo o tempo de consulta rápido. Liste as alterações e procedimentos necessários para realizar isso.\n",
    "### Obs: se necesserário, considere que o arquivo exemplo1.parquet atualiza 1 vez ao mês  "
   ]
  },
  {
   "cell_type": "markdown",
   "metadata": {},
   "source": [
    "1- Particionar o arquivo parquet"
   ]
  },
  {
   "cell_type": "markdown",
   "metadata": {},
   "source": [
    "2- Compactar os dados, reduzindo o tamanho físico do arquivo"
   ]
  },
  {
   "cell_type": "markdown",
   "metadata": {},
   "source": [
    "3- Armazenar resultados de consultas frequentes em cache"
   ]
  },
  {
   "cell_type": "markdown",
   "metadata": {},
   "source": [
    "## 5. Você foi instruído a criar um modelo de regressão baseado em um modelo econométrico. Ao terminar a implementação você verificou que o resultado está abaixo do esperado. Liste o que poderia ser feito para melhorar o resultado.  "
   ]
  },
  {
   "cell_type": "markdown",
   "metadata": {},
   "source": [
    "1- Considerar o contexto econômico"
   ]
  },
  {
   "cell_type": "markdown",
   "metadata": {},
   "source": [
    "2- Verificar a amostragem de dados"
   ]
  },
  {
   "cell_type": "markdown",
   "metadata": {},
   "source": [
    "3- Reavaliar e ajustar o modelo"
   ]
  },
  {
   "cell_type": "markdown",
   "metadata": {},
   "source": [
    "4- Verificar variáveis"
   ]
  },
  {
   "cell_type": "markdown",
   "metadata": {},
   "source": [
    "5- Tratar outliers"
   ]
  },
  {
   "cell_type": "markdown",
   "metadata": {},
   "source": [
    "## 6. ELT e ETL são termos comuns na rotina de trabalho de especialistas em Soluções de Tecnologia da Informação, justamente por representarem estratégias de pipelines de integração de dados em um determinado projeto. Sobre esses procedimentos, é correto afirmar que:  "
   ]
  },
  {
   "cell_type": "markdown",
   "metadata": {},
   "source": [
    "Opção Correta: d-  Estrutura de dados em nuvem são ideais para a adoção de estratégias ELT, devido a maior rapidez no carregamento dos dados e a adequada capacidade de processamento posterior.   "
   ]
  },
  {
   "cell_type": "markdown",
   "metadata": {},
   "source": []
  }
 ],
 "metadata": {
  "language_info": {
   "name": "python"
  }
 },
 "nbformat": 4,
 "nbformat_minor": 2
}
